{
 "cells": [
  {
   "cell_type": "code",
   "execution_count": 3,
   "id": "initial_id",
   "metadata": {
    "ExecuteTime": {
     "end_time": "2025-03-19T10:09:07.910795Z",
     "start_time": "2025-03-19T10:09:07.908033Z"
    }
   },
   "outputs": [],
   "source": [
    "from obci_readmanager.signal_processing.read_manager import ReadManager\n",
    "import numpy as np\n",
    "import matplotlib.pyplot as plt\n",
    "import pandas as pd\n",
    "from scipy import signal as ss"
   ]
  },
  {
   "cell_type": "code",
   "execution_count": 4,
   "id": "d2bb0ac1f47221e4",
   "metadata": {
    "ExecuteTime": {
     "end_time": "2025-03-19T10:06:58.561889Z",
     "start_time": "2025-03-19T10:03:35.488849Z"
    }
   },
   "outputs": [],
   "source": [
    "def download_signal(bin_file_path=None, xml_file_path=None, tag_file_path=None, csv_file_path=None):\n",
    "    if bin_file_path is None:\n",
    "        raise ValueError(\"'bin_file_path' is required.\")\n",
    "\n",
    "    if xml_file_path is None:\n",
    "        raise ValueError(\"'xml_file_path' is required.\")\n",
    "\n",
    "    eeg = dict()\n",
    "\n",
    "    mgr = ReadManager(xml_file_path, bin_file_path, tag_file_path if tag_file_path else None)\n",
    "\n",
    "    # Retrieve the sampling frequency\n",
    "    eeg['sampling'] = float(mgr.get_param(\"sampling_frequency\"))\n",
    "\n",
    "    # Retrieve the names of the channels\n",
    "    eeg['channels_names'] = mgr.get_param(\"channels_names\")\n",
    "\n",
    "    # Retrieve EEG data and process it\n",
    "    eeg['data'] = mgr.get_samples()\n",
    "    eeg['data'] = eeg['data'] * 0.0715\n",
    "\n",
    "    # Retrieve tags if the tag file is provided\n",
    "    if tag_file_path:\n",
    "        eeg['tags'] = mgr.get_tags()\n",
    "\n",
    "    # Handle CSV file if provided\n",
    "    if csv_file_path:\n",
    "        try:\n",
    "            eeg['data_csv'] = pd.read_csv(csv_file_path)\n",
    "        except FileNotFoundError:\n",
    "            print(f\"Warning: CSV file not found at {csv_file_path}.\")\n",
    "            eeg['data_csv'] = None\n",
    "    else:\n",
    "        eeg['data_csv'] = None\n",
    "\n",
    "    return eeg"
   ]
  },
  {
   "cell_type": "code",
   "execution_count": 5,
   "id": "e7ca8a47cc9ac4c6",
   "metadata": {
    "ExecuteTime": {
     "end_time": "2025-03-19T10:06:58.703252Z",
     "start_time": "2025-03-19T10:05:11.650548Z"
    }
   },
   "outputs": [],
   "source": [
    "def filter_signal(syg, sampling, lowpass_params=None, highpass_params=None, notch_params=None, passband_params=None, useMuPassBand = False):\n",
    "    # Default filter parameters\n",
    "    default_lowpass = {'N': 2, 'Wn': 45, 'btype': 'lowpass', 'ftype': 'butter'}\n",
    "    default_highpass = {'N': 2, 'Wn': 3, 'btype': 'highpass', 'ftype': 'butter'}\n",
    "    default_notch = {'w0': 50, 'Q': 30}\n",
    "    default_Mu_passband = {'N': 4, 'Wn': (8, 12), 'btype': 'bandpass', 'ftype': 'butter'}\n",
    "\n",
    "\n",
    "    # Merge user-provided parameters with defaults\n",
    "    lowpass_params = {**default_lowpass, **(lowpass_params or {})}\n",
    "    highpass_params = {**default_highpass, **(highpass_params or {})}\n",
    "    notch_params = {**default_notch, **(notch_params or {})}\n",
    "    passband_params = {**default_Mu_passband, **(passband_params or {})}\n",
    "\n",
    "    # Design lowpass filter\n",
    "    sos_low = ss.iirfilter(\n",
    "        N=lowpass_params['N'],\n",
    "        Wn=lowpass_params['Wn'],\n",
    "        btype=lowpass_params['btype'],\n",
    "        ftype=lowpass_params['ftype'],\n",
    "        fs=sampling,\n",
    "        output='sos'\n",
    "    )\n",
    "\n",
    "    # Design highpass filter\n",
    "    sos_high = ss.iirfilter(\n",
    "        N=highpass_params['N'],\n",
    "        Wn=highpass_params['Wn'],\n",
    "        btype=highpass_params['btype'],\n",
    "        ftype=highpass_params['ftype'],\n",
    "        fs=sampling,\n",
    "        output='sos'\n",
    "    )\n",
    "\n",
    "    # Design notch filter\n",
    "    b_notch, a_notch = ss.iirnotch(\n",
    "        w0=notch_params['w0'],\n",
    "        Q=notch_params['Q'],\n",
    "        fs=sampling\n",
    "    )\n",
    "\n",
    "    # Apply the filters sequentially\n",
    "    syg = ss.sosfiltfilt(sos_low, syg, axis=-1)\n",
    "    syg = ss.sosfiltfilt(sos_high, syg, axis=-1)\n",
    "    syg = ss.filtfilt(b_notch, a_notch, syg, axis=-1)\n",
    "\n",
    "\n",
    "    if useMuPassBand:\n",
    "        # Design stopband filter (alpha band 8-12 Hz)\n",
    "        sos_passband = ss.iirfilter(\n",
    "        N=passband_params['N'],\n",
    "        Wn=passband_params['Wn'],\n",
    "        btype=passband_params['btype'],\n",
    "        ftype=passband_params['ftype'],\n",
    "        fs=sampling,\n",
    "        output='sos'\n",
    "        )\n",
    "        # Apply the stopband filter\n",
    "        syg = ss.sosfiltfilt(sos_passband, syg, axis=-1)   # Alpha stopband filter\n",
    "  \n",
    "    return syg"
   ]
  },
  {
   "cell_type": "code",
   "execution_count": 39,
   "id": "df70dba3892e4b52",
   "metadata": {
    "ExecuteTime": {
     "end_time": "2025-03-19T10:06:58.707717Z",
     "start_time": "2025-03-19T10:05:50.428941Z"
    }
   },
   "outputs": [],
   "source": [
    "def apply_montage(syg, channels_names, montage_type='average', reference_channel=None):\n",
    "\n",
    "    # Identify 'M1' and 'M2'\n",
    "    unwanted_labels = {'M1', 'M2'}\n",
    "    m1_m2_indices = [i for i, label in enumerate(channels_names) if label in unwanted_labels]\n",
    "\n",
    "    \n",
    "    if montage_type == 'common_average':\n",
    "        # Remove 'M1' and 'M2' from channels\n",
    "        indices_to_keep = [i for i, label in enumerate(channels_names) if label not in unwanted_labels]\n",
    "        channels_names = [channels_names[i] for i in indices_to_keep]\n",
    "        syg = syg[indices_to_keep]\n",
    "    \n",
    "        if len(m1_m2_indices) != 2:\n",
    "            raise ValueError(\"Both 'M1' and 'M2' must be present in channels_names for average montage.\")\n",
    "            \n",
    "            # Compute the mean\n",
    "            average_reference = syg.mean(axis=0)\n",
    "    \n",
    "            # Apply montage\n",
    "            syg = syg - average_reference\n",
    "        \n",
    "    elif montage_type == 'linked_ears':\n",
    "        # Extract signals for 'M1' and 'M2'\n",
    "        m1_signal = syg[m1_m2_indices[0], :]\n",
    "        m2_signal = syg[m1_m2_indices[1], :]\n",
    "\n",
    "        # Compute the mean of M1 and M2\n",
    "        average_reference = (m1_signal + m2_signal) / 2\n",
    "\n",
    "        # Apply montage\n",
    "        syg = syg - average_reference\n",
    "        \n",
    "        # Remove 'M1' and 'M2' from channels\n",
    "        indices_to_keep = [i for i, label in enumerate(channels_names) if label not in unwanted_labels]\n",
    "        channels_names = [channels_names[i] for i in indices_to_keep]\n",
    "        syg = syg[indices_to_keep]\n",
    "\n",
    "    elif montage_type == 'channel':\n",
    "        if reference_channel is None:\n",
    "            raise ValueError(\"`reference_channel` must be specified for montage_type='channel'.\")\n",
    "\n",
    "        # Find the reference channel index\n",
    "        if reference_channel not in channels_names:\n",
    "            raise ValueError(f\"Reference channel '{reference_channel}' not found in channels_names.\")\n",
    "\n",
    "        ref_index = channels_names.index(reference_channel)\n",
    "        ref_signal = syg[ref_index, :]\n",
    "\n",
    "        # Apply montage\n",
    "        syg = syg - ref_signal\n",
    "\n",
    "        # Identify 'M1' and 'M2'\n",
    "        unwanted_labels = {'M1', 'M2'}\n",
    "        m1_m2_indices = [i for i, label in enumerate(channels_names) if label in unwanted_labels]\n",
    "        \n",
    "        # Remove 'M1' and 'M2' from channels\n",
    "        indices_to_keep = [i for i, label in enumerate(channels_names) if label not in unwanted_labels]\n",
    "        channels_names = [channels_names[i] for i in indices_to_keep]\n",
    "        syg = syg[indices_to_keep]\n",
    "\n",
    "    else:\n",
    "        raise ValueError(\"Invalid montage_type. Choose 'average' or 'channel'.\")    \n",
    "\n",
    "    return syg, channels_names"
   ]
  },
  {
   "cell_type": "code",
   "execution_count": 41,
   "id": "233fc198c5708f89",
   "metadata": {},
   "outputs": [],
   "source": [
    "def cut_signal(syg, tags, sampling, amplitude_limit=500):\n",
    "  # Initialize parameters\n",
    "  dlugosc = int((2 + 6) * sampling)\n",
    "  lewa_list = []\n",
    "  prawa_list = []\n",
    "  lewa, prawa = ('lewa', 'prawa')\n",
    "\n",
    "  i = 0\n",
    "  for tag in tags:\n",
    "      # Determine if the tag is frequent or rare based on the timestamp\n",
    "      t0 = int(sampling * (tag['start_timestamp'] - 2))\n",
    "\n",
    "      # Slice the signal segment\n",
    "      segment = syg[:, t0:t0 + dlugosc]\n",
    "      if np.max(segment) > 100:\n",
    "          print(f\"ajj {i}\")\n",
    "          i += 1\n",
    " \n",
    "      if tag['desc']['strona'] == lewa:\n",
    "          lewa_list.append(segment)\n",
    "      elif tag['desc']['strona'] == prawa:\n",
    "          prawa_list.append(segment)\n",
    "\n",
    "  lewa_array = np.array(lewa_list)\n",
    "\n",
    "  prawa_array = np.array(prawa_list)\n",
    "\n",
    "  return lewa_array, prawa_array"
   ]
  },
  {
   "cell_type": "code",
   "execution_count": 43,
   "id": "c3dee0525e8f540d",
   "metadata": {},
   "outputs": [
    {
     "name": "stderr",
     "output_type": "stream",
     "text": [
      "2025-04-09 11:06:14,311 - data_source - INFO - All data set requested for the first time. Start reading all data from the file...\n"
     ]
    }
   ],
   "source": [
    "name = \"mati\"\n",
    "signal_type = \"ruch\"\n",
    "xml_file = f\"{name}/{name}_{signal_type}.obci.xml\"\n",
    "bin_file = f\"{name}/{name}_{signal_type}.obci.raw\"\n",
    "csv_file_path = f\"{name}/{name}_{signal_type}.csv\"\n",
    "tag_file_path = f\"{name}/{name}_{signal_type}.obci.tag\"\n",
    "\n",
    "EEG_mati = download_signal(bin_file, xml_file, tag_file_path, csv_file_path)\n",
    "EEG_mati['data'], EEG_mati['channels_names'] = apply_montage(EEG_mati['data'], EEG_mati['channels_names'], 'linked_ears')\n",
    "EEG_mati['data'] = filter_signal(EEG_mati['data'], EEG_mati['sampling'])"
   ]
  },
  {
   "cell_type": "code",
   "execution_count": 45,
   "id": "7e70cdb2-d5a5-4101-a0e3-7b82e8760f15",
   "metadata": {},
   "outputs": [],
   "source": [
    "#EEG_mati"
   ]
  },
  {
   "cell_type": "code",
   "execution_count": 47,
   "id": "0fc0e6f3-0f20-49c6-a47b-c94141a9fba3",
   "metadata": {},
   "outputs": [
    {
     "name": "stdout",
     "output_type": "stream",
     "text": [
      "ajj 0\n"
     ]
    }
   ],
   "source": [
    "EEG_mati['lewa'], EEG_mati['prawa'] = cut_signal(EEG_mati['data'], EEG_mati['tags'], EEG_mati['sampling'])"
   ]
  },
  {
   "cell_type": "code",
   "execution_count": 49,
   "id": "db4adf81-aec4-40c1-bd2f-2b2d1a0b9139",
   "metadata": {},
   "outputs": [],
   "source": [
    "#EEG_mati['lewa']"
   ]
  },
  {
   "cell_type": "code",
   "execution_count": 51,
   "id": "7b4a2ff4-e675-49c4-a45c-4c56e0435bba",
   "metadata": {},
   "outputs": [
    {
     "data": {
      "text/plain": [
       "(30, 19, 2048)"
      ]
     },
     "execution_count": 51,
     "metadata": {},
     "output_type": "execute_result"
    }
   ],
   "source": [
    "EEG_mati['prawa'].shape"
   ]
  },
  {
   "cell_type": "code",
   "execution_count": 53,
   "id": "29c83ac0-439b-431f-9b73-a5648892c734",
   "metadata": {},
   "outputs": [],
   "source": [
    "merged = np.stack((EEG_mati['lewa'], EEG_mati['prawa']), axis=0)"
   ]
  },
  {
   "cell_type": "code",
   "execution_count": 55,
   "id": "1000db22-13ca-47ff-b54c-e54a4d2594e4",
   "metadata": {},
   "outputs": [],
   "source": [
    "np.save(f\"{name}_{signal_type}_dane.npy\", merged)"
   ]
  },
  {
   "cell_type": "code",
   "execution_count": 57,
   "id": "1d8ae803-6462-433f-ba73-4b5661a260b3",
   "metadata": {},
   "outputs": [],
   "source": [
    "merged_loaded = np.load(f\"{name}_{signal_type}_dane.npy\")"
   ]
  },
  {
   "cell_type": "code",
   "execution_count": 59,
   "id": "39d83040-106e-4440-94e6-2fc816eda6d4",
   "metadata": {},
   "outputs": [
    {
     "data": {
      "text/plain": [
       "(2, 30, 19, 2048)"
      ]
     },
     "execution_count": 59,
     "metadata": {},
     "output_type": "execute_result"
    }
   ],
   "source": [
    "merged_loaded.shape"
   ]
  },
  {
   "cell_type": "markdown",
   "id": "dfdd0623-b12e-472e-9047-1e17fb834ff6",
   "metadata": {},
   "source": [
    "Zapis danych prszefiltrowanych dodatkowo passBandem na Mu"
   ]
  },
  {
   "cell_type": "code",
   "execution_count": 62,
   "id": "f9ef7eeb-f49e-4f3f-b75a-79a356fdc25a",
   "metadata": {},
   "outputs": [
    {
     "name": "stderr",
     "output_type": "stream",
     "text": [
      "2025-04-09 11:06:39,959 - data_source - INFO - All data set requested for the first time. Start reading all data from the file...\n"
     ]
    }
   ],
   "source": [
    "name = \"mati\"\n",
    "signal_type = \"wyobrazenie\"\n",
    "xml_file = f\"{name}/{name}_{signal_type}.obci.xml\"\n",
    "bin_file = f\"{name}/{name}_{signal_type}.obci.raw\"\n",
    "csv_file_path = f\"{name}/{name}_{signal_type}.csv\"\n",
    "tag_file_path = f\"{name}/{name}_{signal_type}.obci.tag\"\n",
    "\n",
    "EEG_mati = download_signal(bin_file, xml_file, tag_file_path, csv_file_path)\n",
    "EEG_mati['data'], EEG_mati['channels_names'] = apply_montage(EEG_mati['data'], EEG_mati['channels_names'], 'linked_ears')\n",
    "EEG_mati['data'] = filter_signal(EEG_mati['data'], EEG_mati['sampling'], useMuPassBand = True)"
   ]
  },
  {
   "cell_type": "code",
   "execution_count": 63,
   "id": "49e004fe-a430-49ff-8541-44a66408c3e2",
   "metadata": {},
   "outputs": [],
   "source": [
    "EEG_mati['lewa'], EEG_mati['prawa'] = cut_signal(EEG_mati['data'], EEG_mati['tags'], EEG_mati['sampling'])"
   ]
  },
  {
   "cell_type": "code",
   "execution_count": 64,
   "id": "9b7270d3-86ae-411c-b1ef-15464155d398",
   "metadata": {},
   "outputs": [
    {
     "data": {
      "text/plain": [
       "(30, 19, 2048)"
      ]
     },
     "execution_count": 64,
     "metadata": {},
     "output_type": "execute_result"
    }
   ],
   "source": [
    "EEG_mati['prawa'].shape"
   ]
  },
  {
   "cell_type": "code",
   "execution_count": 65,
   "id": "4c06d341-7f01-4eaa-8a0b-3e8d99171abb",
   "metadata": {},
   "outputs": [],
   "source": [
    "merged = np.stack((EEG_mati['lewa'], EEG_mati['prawa']), axis=0)"
   ]
  },
  {
   "cell_type": "code",
   "execution_count": 70,
   "id": "5d1e616a-5299-4e65-bad6-fa0001319883",
   "metadata": {},
   "outputs": [],
   "source": [
    "np.save(f\"{name}_{signal_type}_dane_passbandMU.npy\", merged)"
   ]
  },
  {
   "cell_type": "code",
   "execution_count": null,
   "id": "3b1da4a9-83bf-4be7-a28b-533acfd208ac",
   "metadata": {},
   "outputs": [],
   "source": []
  }
 ],
 "metadata": {
  "kernelspec": {
   "display_name": "Python [conda env:base] *",
   "language": "python",
   "name": "conda-base-py"
  },
  "language_info": {
   "codemirror_mode": {
    "name": "ipython",
    "version": 3
   },
   "file_extension": ".py",
   "mimetype": "text/x-python",
   "name": "python",
   "nbconvert_exporter": "python",
   "pygments_lexer": "ipython3",
   "version": "3.11.5"
  }
 },
 "nbformat": 4,
 "nbformat_minor": 5
}
